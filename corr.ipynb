{
 "cells": [
  {
   "cell_type": "code",
   "execution_count": null,
   "metadata": {},
   "outputs": [],
   "source": [
    "import json\n",
    "from collections import OrderedDict, defaultdict, Counter\n",
    "from dateutil import parser\n",
    "from datetime import datetime\n",
    "import pickle as pkl\n",
    "\n",
    "import pandas as pd\n",
    "import numpy as np\n",
    "from scipy.stats import pearsonr, spearmanr, linregress\n",
    "\n",
    "import matplotlib.pyplot as plt\n",
    "import matplotlib.dates as mdates\n",
    "from mpl_toolkits.mplot3d import Axes3D\n",
    "from matplotlib.ticker import MaxNLocator\n",
    "from matplotlib.patches import Rectangle\n",
    "import seaborn as sns\n",
    "from pandas.plotting import register_matplotlib_converters\n",
    "import gzip\n",
    "\n",
    "from tqdm import tqdm\n",
    "import glob\n",
    "import os\n",
    "import subprocess\n",
    "\n",
    "import socialsim as ss\n",
    "register_matplotlib_converters()\n",
    "sns.set()"
   ]
  },
  {
   "cell_type": "code",
   "execution_count": null,
   "metadata": {},
   "outputs": [],
   "source": [
    "# append = 'to_5_31'\n",
    "# append = 'to_6_29'\n",
    "# append = 'to_7_06'\n",
    "# append = 'to_7_13'\n",
    "# append = 'to_7_20'\n",
    "# append = 'to_7_27'\n",
    "append = 'to_8_03'"
   ]
  },
  {
   "cell_type": "code",
   "execution_count": null,
   "metadata": {},
   "outputs": [],
   "source": [
    "# idx = pd.date_range(pd.to_datetime('2020-03-30'), pd.to_datetime('2020-05-31'))\n",
    "# idx = pd.date_range(pd.to_datetime('2020-03-30'), pd.to_datetime('2020-06-29'))\n",
    "# idx = pd.date_range(pd.to_datetime('2020-03-30'), pd.to_datetime('2020-07-06'))\n",
    "# idx = pd.date_range(pd.to_datetime('2020-03-30'), pd.to_datetime('2020-07-13'))\n",
    "# idx = pd.date_range(pd.to_datetime('2020-03-30'), pd.to_datetime('2020-07-20'))\n",
    "# idx = pd.date_range(pd.to_datetime('2020-03-30'), pd.to_datetime('2020-07-27'))\n",
    "idx = pd.date_range(pd.to_datetime('2020-03-30'), pd.to_datetime('2020-08-03'))"
   ]
  },
  {
   "cell_type": "code",
   "execution_count": null,
   "metadata": {},
   "outputs": [],
   "source": [
    "with open('/data/leidos_extracted/2021CP5/cp5_eval_nodes.txt', 'r') as f:\n",
    "    nodes = f.read().split('\\n')[:-2]\n",
    "with open('/data/leidos_extracted/2021CP5/cp5_other_nodes.txt', 'r') as f:\n",
    "    nodes += f.read().split('\\n')[:-1]\n",
    "nodes"
   ]
  },
  {
   "cell_type": "code",
   "execution_count": null,
   "metadata": {},
   "outputs": [],
   "source": [
    "with open('/data/leidos_extracted/2021CP5/twitter_time_series_{}.json'.format(append), 'r') as f:\n",
    "    d = json.loads(f.read())\n",
    "tdf = {k: pd.read_json(v, orient='columns') for k, v in d.items()}\n",
    "with open('/data/leidos_extracted/2021CP5/youtube_time_series_{}.json'.format(append), 'r') as f:\n",
    "    d = json.loads(f.read())\n",
    "ydf = {k: pd.read_json(v, orient='columns') for k, v in d.items()}"
   ]
  },
  {
   "cell_type": "code",
   "execution_count": null,
   "metadata": {},
   "outputs": [],
   "source": [
    "# with open('/data/leidos_extracted/2021CP5/gdelt_time_series.json', 'r') as f:\n",
    "#     d = json.loads(f.read())\n",
    "# gdf = {k: pd.read_json(v, typ='series') for k, v in d.items()}\n",
    "with open('/data/leidos_extracted/2021CP5/acled_time_series.json', 'r') as f:\n",
    "    d = json.loads(f.read())\n",
    "adf = {k: pd.read_json(v, typ='series') for k, v in d.items()}"
   ]
  },
  {
   "cell_type": "code",
   "execution_count": null,
   "metadata": {},
   "outputs": [],
   "source": [
    "ycorr = OrderedDict()\n",
    "for node in nodes:\n",
    "    if node in ydf:\n",
    "        z = np.array(ydf[node].reindex(idx, fill_value=0).EventCount.to_list())\n",
    "        if np.linalg.norm(z) > 0:\n",
    "            z = z / np.linalg.norm(z)\n",
    "    else:\n",
    "        z = np.array(pd.Series().reindex(idx, fill_value=0).to_list())\n",
    "    tmp = {}\n",
    "    for ak in adf.keys():\n",
    "        x = np.pad(np.array(adf[ak].reindex(idx, fill_value=0).to_list()), 1, mode='constant')\n",
    "        tmp[ak] = pearsonr(x[0:0+len(z)], z)[0]\n",
    "    ycorr[node] = tmp"
   ]
  },
  {
   "cell_type": "code",
   "execution_count": null,
   "metadata": {},
   "outputs": [],
   "source": [
    "for k in ycorr.keys():\n",
    "    for kk in ycorr[k].keys():\n",
    "        if np.isnan(ycorr[k][kk]):\n",
    "            ycorr[k][kk] = 0.0"
   ]
  },
  {
   "cell_type": "code",
   "execution_count": null,
   "metadata": {},
   "outputs": [],
   "source": [
    "with open('/data/leidos_extracted/2021CP5/youtube_acled_corr_{}.json'.format(append), 'w') as f:\n",
    "    json.dump(ycorr, f)"
   ]
  },
  {
   "cell_type": "code",
   "execution_count": null,
   "metadata": {
    "scrolled": true
   },
   "outputs": [],
   "source": [
    "for node in nodes:\n",
    "    print(node)\n",
    "    plt.plot(ydf[node].EventCount)\n",
    "#     k, v = max(ycorr['benefits/development/energy'].items(), key=lambda x: x[1])\n",
    "    plt.plot(np.sum(adf[ak] * max(0, ycorr[node][ak]) for ak in adf.keys()))\n",
    "    plt.show()"
   ]
  },
  {
   "cell_type": "code",
   "execution_count": null,
   "metadata": {},
   "outputs": [],
   "source": []
  }
 ],
 "metadata": {
  "kernelspec": {
   "display_name": "Python 3.6.7 64-bit ('ssenv': conda)",
   "language": "python",
   "name": "python36764bitssenvconda064968db67b24473b1fc8e22de9d498f"
  },
  "language_info": {
   "codemirror_mode": {
    "name": "ipython",
    "version": 3
   },
   "file_extension": ".py",
   "mimetype": "text/x-python",
   "name": "python",
   "nbconvert_exporter": "python",
   "pygments_lexer": "ipython3",
   "version": "3.6.7"
  }
 },
 "nbformat": 4,
 "nbformat_minor": 2
}
