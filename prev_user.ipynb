{
 "cells": [
  {
   "cell_type": "code",
   "execution_count": null,
   "metadata": {},
   "outputs": [],
   "source": [
    "import socialsim as ss\n",
    "import json\n",
    "import pandas as pd\n",
    "import numpy as np\n",
    "import json\n",
    "from collections import OrderedDict\n",
    "import pickle as pkl\n",
    "from scipy.stats.stats import pearsonr, spearmanr\n",
    "import matplotlib.pyplot as plt\n",
    "import simplejson\n",
    "from glob import glob\n",
    "\n",
    "from datetime import datetime"
   ]
  },
  {
   "cell_type": "code",
   "execution_count": null,
   "metadata": {},
   "outputs": [],
   "source": [
    "# append = 'to_5_31'\n",
    "# append = 'to_5_10'\n",
    "# append = 'to_6_29'\n",
    "# append = 'to_7_06'\n",
    "append = 'to_7_13'"
   ]
  },
  {
   "cell_type": "code",
   "execution_count": null,
   "metadata": {},
   "outputs": [],
   "source": [
    "with open('/data/leidos_extracted/2021CP5/cp5_eval_nodes.txt', 'r') as f:\n",
    "    nodes = f.read().split('\\n')[:-2]\n",
    "nodes = set(nodes)"
   ]
  },
  {
   "cell_type": "code",
   "execution_count": null,
   "metadata": {},
   "outputs": [],
   "source": [
    "t0_data = ss.load_data('/data/leidos_extracted/2021CP5/cp5_twitter_2020-03-30_2020-06-29.json', ignore_first_line=False, verbose=False)\n",
    "t1_data = ss.load_data('/data/leidos_extracted/2021CP5/cp5_twitter_2020-06-30_2020-07-06.json', ignore_first_line=False, verbose=False)\n",
    "t2_data = ss.load_data('/data/leidos_extracted/2021CP5/cp5_twitter_2020-07-07_2020-07-13.json', ignore_first_line=False, verbose=False)\n",
    "y0_data = ss.load_data('/data/leidos_extracted/2021CP5/cp5_youtube_to_7_13.json', ignore_first_line=False, verbose=False)"
   ]
  },
  {
   "cell_type": "code",
   "execution_count": null,
   "metadata": {},
   "outputs": [],
   "source": [
    "gt_data = pd.concat([\n",
    "    t0_data,\n",
    "    t1_data,\n",
    "    t2_data,\n",
    "    y0_data\n",
    "], ignore_index=True).sort_values(by='nodeTime').reset_index(drop=True)"
   ]
  },
  {
   "cell_type": "code",
   "execution_count": null,
   "metadata": {},
   "outputs": [],
   "source": [
    "# gt_data = gt_data[gt_data.nodeTime < pd.to_datetime('2020-05-11')]"
   ]
  },
  {
   "cell_type": "code",
   "execution_count": null,
   "metadata": {},
   "outputs": [],
   "source": [
    "gt_data.loc[~gt_data.informationID.isin(nodes), 'informationID'] = 'other'"
   ]
  },
  {
   "cell_type": "code",
   "execution_count": null,
   "metadata": {},
   "outputs": [],
   "source": [
    "prev_user = gt_data[['nodeUserID', 'informationID']].drop_duplicates(keep=\"first\").reset_index(drop=True)"
   ]
  },
  {
   "cell_type": "code",
   "execution_count": null,
   "metadata": {},
   "outputs": [],
   "source": [
    "with open('/data/leidos_extracted/2021CP5/prev_user_{}.pkl'.format(append), 'wb') as f:\n",
    "    pkl.dump(prev_user, f)"
   ]
  },
  {
   "cell_type": "code",
   "execution_count": null,
   "metadata": {},
   "outputs": [],
   "source": [
    "prev_user"
   ]
  },
  {
   "cell_type": "code",
   "execution_count": null,
   "metadata": {},
   "outputs": [],
   "source": []
  }
 ],
 "metadata": {
  "kernelspec": {
   "display_name": "Python 3.6.7 64-bit ('ssenv': conda)",
   "language": "python",
   "name": "python36764bitssenvconda064968db67b24473b1fc8e22de9d498f"
  },
  "language_info": {
   "codemirror_mode": {
    "name": "ipython",
    "version": 3
   },
   "file_extension": ".py",
   "mimetype": "text/x-python",
   "name": "python",
   "nbconvert_exporter": "python",
   "pygments_lexer": "ipython3",
   "version": "3.6.7"
  }
 },
 "nbformat": 4,
 "nbformat_minor": 2
}
