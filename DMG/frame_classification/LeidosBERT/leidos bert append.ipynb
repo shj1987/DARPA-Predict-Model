{
 "cells": [
  {
   "cell_type": "code",
   "execution_count": 14,
   "metadata": {},
   "outputs": [],
   "source": [
    "import json\n",
    "import gzip\n",
    "import string\n",
    "urls = set()\n",
    "id2urls = dict()\n",
    "with gzip.open('../../append_news_raw.json.gz','rt') as fin, open('data/input_append.csv', 'w') as fout:\n",
    "    fout.write('\\\"id\\\",\\\"comment_text\\\"\\n')\n",
    "    for idx, line in enumerate(fin):\n",
    "        js = json.loads(line)\n",
    "        if js['url'] in urls:\n",
    "            continue\n",
    "        urls.add(js['url'])\n",
    "        try:\n",
    "            if 'text' in js and js['text']:\n",
    "                text = js['text']\n",
    "                text = text.translate(str.maketrans('', '', string.punctuation))\n",
    "                text = text.split()\n",
    "                x = ''\n",
    "                for token in text:\n",
    "                    if len(token) > 0:\n",
    "                        x += token+' '\n",
    "                fout.write('\\\"'+str(idx)+'\\\",\\\"'+x.strip()+'\\\"\\n')\n",
    "                id2urls[idx] = js['url']\n",
    "        except:\n",
    "            pass"
   ]
  },
  {
   "cell_type": "code",
   "execution_count": 23,
   "metadata": {},
   "outputs": [
    {
     "name": "stdout",
     "output_type": "stream",
     "text": [
      "Namespace(dir='cpec_frame', input='data/input_append.csv', model='cpec_frame.bin', output='data/output_append.csv', type='frame')\n",
      "01/19/2021 10:51:10 - INFO - __main__ -   device: cuda n_gpu: 1, distributed training: False, 16-bits training: False\n",
      "['benefits/connections/afghanistan', 'benefits/covid', 'benefits/development/energy', 'benefits/development/maritime', 'benefits/development/roads', 'benefits/jobs', 'controversies/china/border', 'controversies/china/debt', 'controversies/china/exploitation', 'controversies/china/funding', 'controversies/china/naval', 'controversies/china/uighur', 'controversies/pakistan/army', 'controversies/pakistan/bajwa', 'controversies/pakistan/baloch', 'controversies/pakistan/students', 'leadership/bajwa', 'leadership/khan', 'leadership/sharif', 'opposition/kashmir', 'opposition/propaganda']\n",
      "21\n",
      "21\n",
      "01/19/2021 10:52:18 - INFO - __main__ -   ***** Running prediction *****\n",
      "01/19/2021 10:52:18 - INFO - __main__ -     Num examples = 4065\n",
      "01/19/2021 10:52:18 - INFO - __main__ -     Batch size = 32\n",
      "Prediction Iteration: 100%|███████████████████| 128/128 [00:03<00:00, 35.37it/s]\n",
      "        id  ... opposition/propaganda\n",
      "0        1  ...              0.002472\n",
      "1        2  ...              0.000797\n",
      "2        3  ...              0.000907\n",
      "3        5  ...              0.000564\n",
      "4        7  ...              0.001318\n",
      "...    ...  ...                   ...\n",
      "4060  6810  ...              0.000669\n",
      "4061  6828  ...              0.000577\n",
      "4062  6834  ...              0.000892\n",
      "4063  6838  ...              0.002873\n",
      "4064  6845  ...              0.000589\n",
      "\n",
      "[4065 rows x 23 columns]\n"
     ]
    }
   ],
   "source": [
    "!bash run_bert.sh"
   ]
  },
  {
   "cell_type": "code",
   "execution_count": 11,
   "metadata": {},
   "outputs": [],
   "source": [
    "narratives = ['benefits/connections/afghanistan', 'benefits/covid', 'benefits/development/energy', 'benefits/development/maritime', 'benefits/development/roads', 'benefits/jobs', 'controversies/china/border', 'controversies/china/debt', 'controversies/china/exploitation', 'controversies/china/funding', 'controversies/china/naval', 'controversies/china/uighur', 'controversies/pakistan/army', 'controversies/pakistan/bajwa', 'controversies/pakistan/baloch', 'controversies/pakistan/students', 'leadership/bajwa', 'leadership/khan', 'leadership/sharif', 'opposition/kashmir', 'opposition/propaganda']\n",
    "url_done = dict()\n",
    "# with open('../url2bert_prob.json') as fin:\n",
    "#     for line in fin:\n",
    "#         js = json.loads(line)\n",
    "#         url_done[js['url']] = js"
   ]
  },
  {
   "cell_type": "code",
   "execution_count": 12,
   "metadata": {},
   "outputs": [],
   "source": [
    "import csv\n",
    "import pandas as pd\n",
    "scores = []\n",
    "with open('data/output_append.csv') as fin:\n",
    "    csv = pd.read_csv(fin) # , delimiter=',', quoting=csv.QUOTE_NONE)\n",
    "    for row in csv.iterrows():\n",
    "        _id = row[1]['id']\n",
    "        prob = dict()\n",
    "        for label in narratives:\n",
    "            prob[label] = float(row[1][label])\n",
    "        url_done[id2urls[_id]] = {'url': id2urls[_id], 'prob': prob}\n",
    "# print(len(scores), len(id2urls))\n",
    "# assert len(urls_list) == len(scores)"
   ]
  },
  {
   "cell_type": "code",
   "execution_count": 13,
   "metadata": {},
   "outputs": [],
   "source": [
    "with open('../url2bert_prob_append.json', 'w') as fout:\n",
    "    for u in url_done:\n",
    "        fout.write(json.dumps(url_done[u]) + '\\n')"
   ]
  }
 ],
 "metadata": {
  "kernelspec": {
   "display_name": "pytorch",
   "language": "python",
   "name": "pytorch"
  },
  "language_info": {
   "codemirror_mode": {
    "name": "ipython",
    "version": 3
   },
   "file_extension": ".py",
   "mimetype": "text/x-python",
   "name": "python",
   "nbconvert_exporter": "python",
   "pygments_lexer": "ipython3",
   "version": "3.8.5"
  }
 },
 "nbformat": 4,
 "nbformat_minor": 4
}
