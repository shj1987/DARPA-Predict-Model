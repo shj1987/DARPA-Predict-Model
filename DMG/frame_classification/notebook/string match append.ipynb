{
 "cells": [
  {
   "cell_type": "code",
   "execution_count": 9,
   "metadata": {},
   "outputs": [
    {
     "name": "stdout",
     "output_type": "stream",
     "text": [
      "0.13999094886106503\n"
     ]
    }
   ],
   "source": [
    "input_file = 'news_text_raw_append.json'\n",
    "output_file = 'url2string_match_append.json'\n",
    "\n",
    "url2results = dict()\n",
    "# import json\n",
    "# with open('url2string_match.json') as fin:\n",
    "#     for line in fin:\n",
    "#         js = json.loads(line)\n",
    "#         url2results[js['url']] = js\n",
    "narratives = ['benefits/connections/afghanistan', 'benefits/covid', 'benefits/development/energy', 'benefits/development/maritime', 'benefits/development/roads', 'benefits/jobs', 'controversies/china/border', 'controversies/china/debt', 'controversies/china/exploitation', 'controversies/china/funding', 'controversies/china/naval', 'controversies/china/uighur', 'controversies/pakistan/army', 'controversies/pakistan/bajwa', 'controversies/pakistan/baloch', 'controversies/pakistan/students', 'leadership/bajwa', 'leadership/khan', 'leadership/sharif', 'opposition/kashmir', 'opposition/propaganda']\n",
    "import json\n",
    "from collections import defaultdict\n",
    "url2title = dict()\n",
    "url2string_match_prediction = dict()\n",
    "url2string_match_score = dict()\n",
    "# keywords = dict()\n",
    "# with open('WeSTClass/news_en/keywords.txt') as fin:\n",
    "#     for nar, line in zip(narratives, fin):\n",
    "#         keywords[nar] = list(line.strip().split(':')[1].split(','))\n",
    "import json\n",
    "keywords = json.load(open('keywords.txt'))\n",
    "# print(keywords)\n",
    "global_cnt = {\"benefits/covid\": 485344, \"benefits/development/roads\": 74575, \"benefits/development/maritime\": 44606, \"benefits/development/energy\": 55211, \"leadership/bajwa\": 18469, \"opposition/propaganda\": 179989, \"opposition/kashmir\": 484026, \"benefits/jobs\": 34899, \"leadership/khan\": 164996, \"controversies/china/uighur\": 49202, \"controversies/china/border\": 1280130, \"controversies/china/debt\": 55764, \"controversies/china/exploitation\": 118370, \"controversies/pakistan/students\": 10867, \"controversies/pakistan/baloch\": 172937, \"controversies/pakistan/army\": 82715, \"benefits/connections/afghanistan\": 5863, \"leadership/sharif\": 92467, \"controversies/pakistan/bajwa\": 15371, \"controversies/china/funding\": 1425, \"controversies/china/naval\": 256}\n",
    "# print(len(global_cnt))\n",
    "# with open('../url2tweet_frame.json') as fin:\n",
    "#     for line in fin:\n",
    "#         js = json.loads(line)\n",
    "#         for f in js['frames']:\n",
    "#             global_cnt[f] += 1\n",
    "cnt = 0\n",
    "with open(f'../{input_file}') as fin:\n",
    "    for line in fin:\n",
    "        js = json.loads(line)\n",
    "#         text = (js['phrased_title'] if js['phrased_title'] else ' ').replace('\\r', ' ').replace('\\n', ' ').strip()\n",
    "        text = (js['title'] if js['title'] else ' ').replace('\\r', ' ').replace('\\n', ' ').strip()\n",
    "        url2title[js['url']] = js['title']\n",
    "        nar_cnt = defaultdict(int)\n",
    "        found = 0\n",
    "        for nar in narratives:\n",
    "            for key in keywords[nar]:\n",
    "                key = key.replace('_', ' ')\n",
    "                if text.lower().find(key) != -1:\n",
    "                    nar_cnt[nar] += 1\n",
    "                    found += 1\n",
    "        if found >= 1:\n",
    "            cnt += 1\n",
    "            url2string_match_prediction[js['url']] = sorted(nar_cnt, key=lambda x: (nar_cnt[x], global_cnt[x]), reverse=True)[0]\n",
    "            url2string_match_score[js['url']] = {i: nar_cnt[i] for i in narratives}\n",
    "for u in url2string_match_score:\n",
    "    url2results[u] = {'url': u, 'string_match_score': url2string_match_score[u], 'string_match_prediction': url2string_match_prediction[u]}\n",
    "            \n",
    "with open(output_file, 'w') as fout:\n",
    "    for u in url2results:\n",
    "        fout.write(json.dumps(url2results[u]) + '\\n')\n",
    "        \n",
    "print(cnt / len(url2title))"
   ]
  }
 ],
 "metadata": {
  "kernelspec": {
   "display_name": "pytorch",
   "language": "python",
   "name": "pytorch"
  },
  "language_info": {
   "codemirror_mode": {
    "name": "ipython",
    "version": 3
   },
   "file_extension": ".py",
   "mimetype": "text/x-python",
   "name": "python",
   "nbconvert_exporter": "python",
   "pygments_lexer": "ipython3",
   "version": "3.8.5"
  }
 },
 "nbformat": 4,
 "nbformat_minor": 4
}
