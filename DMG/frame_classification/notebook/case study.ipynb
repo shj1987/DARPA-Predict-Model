{
 "cells": [
  {
   "cell_type": "code",
   "execution_count": 15,
   "metadata": {},
   "outputs": [],
   "source": [
    "import json\n",
    "url2title = dict()\n",
    "url2date = dict()\n",
    "# with open(f'../week_{week}_news_results_append.json') as fin:\n",
    "with open(f'../news_results.json') as fin:\n",
    "    for line in fin:\n",
    "        js = json.loads(line)\n",
    "        url2title[js['url']] = js['title']\n",
    "        url2date[js['url']] = js['date']"
   ]
  },
  {
   "cell_type": "code",
   "execution_count": 23,
   "metadata": {},
   "outputs": [
    {
     "name": "stdout",
     "output_type": "stream",
     "text": [
      "21\n"
     ]
    }
   ],
   "source": [
    "\n",
    "with open(f'url2west_prob.json') as fin:\n",
    "    for line in fin:\n",
    "        js = json.loads(line)\n",
    "        score = js['prob']\n",
    "        print(len(score))\n",
    "        break"
   ]
  },
  {
   "cell_type": "code",
   "execution_count": 22,
   "metadata": {},
   "outputs": [
    {
     "name": "stdout",
     "output_type": "stream",
     "text": [
      "170739\n"
     ]
    }
   ],
   "source": [
    "print(len(url2title))"
   ]
  },
  {
   "cell_type": "code",
   "execution_count": 21,
   "metadata": {},
   "outputs": [
    {
     "name": "stdout",
     "output_type": "stream",
     "text": [
      "0.2979569344337886 & 2020-08-19 & India building new road to Ladakh, for facilitating troop movement without observation from enemy\n",
      "0.2790464586079418 & 2020-08-08 & BSF kills suspected Pak intruder along IB in Barmer\n",
      "0.2627765142432323 & 2020-08-29 & BSF Detects Tunnel Along India-Pak Border In Jammu | Kashmir Observer\n",
      "0.2591020915151474 & 2020-08-10 & Pakistani troops fire at border posts along LoC in another ceasefire violation - The Economic Times\n",
      "0.2589735077057599 & 2020-08-08 & BSF kills suspected Pakistan intruder along IB in Rajasthan's Barmer | Business Standard News\n",
      "0.25310851040141163 & 2020-08-23 & Pak to use drones to bomb security establishments near Jammu border: BSF - Daijiworld.com\n",
      "0.2524904329042377 & 2020-08-29 & Tunnel detected along Indo-Pak International border in Samba\n",
      "0.2499769890321087 & 2020-08-18 & Tejas fighter jets: Amid border tensions with China, indigenous fighter LCA Tejas deployed on western front | India News - Times of India\n",
      "0.2472426597352446 & 2020-08-22 & 5 infiltrators shot dead by BSF along border with Pakistan in Punjab\n",
      "0.24715638137673326 & 2020-08-22 & 5 intruders shot dead along Pak border in Punjab: BSF - Rediff.com India News\n"
     ]
    }
   ],
   "source": [
    "week = 14\n",
    "url2score = dict()\n",
    "with open(f'url2west_prob.json') as fin:\n",
    "    for line in fin:\n",
    "        js = json.loads(line)\n",
    "        score = js['prob']['controversies/china/border']\n",
    "        if score < 1 and url2date[js['url']].startswith('2020-08-'):\n",
    "            url2score[js['url']] = score\n",
    "lis = sorted(url2score, key=url2score.get, reverse=True)\n",
    "for i in lis[:10]:\n",
    "    try:\n",
    "        print(url2score[i],  '&', url2date[i], '&', url2title[i])\n",
    "    except:\n",
    "        pass"
   ]
  }
 ],
 "metadata": {
  "kernelspec": {
   "display_name": "Python 3",
   "language": "python",
   "name": "python3"
  },
  "language_info": {
   "codemirror_mode": {
    "name": "ipython",
    "version": 3
   },
   "file_extension": ".py",
   "mimetype": "text/x-python",
   "name": "python",
   "nbconvert_exporter": "python",
   "pygments_lexer": "ipython3",
   "version": "3.8.0"
  }
 },
 "nbformat": 4,
 "nbformat_minor": 4
}
