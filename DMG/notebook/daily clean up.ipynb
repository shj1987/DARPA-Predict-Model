{
 "cells": [
  {
   "cell_type": "code",
   "execution_count": 2,
   "metadata": {},
   "outputs": [],
   "source": [
    "import os\n",
    "week = 'week_17_'\n",
    "\n",
    "for fn in ['relevance_classification/url2relevance_append.json',\n",
    "           'append_news_raw.json.gz', # raw news\n",
    "           'news_text_raw_append.json', # processed raw news\n",
    "           'news_results_append.json', # collected results\n",
    "           'news_text_en_phrased_append.json', # processed en news\n",
    "          'frame_classification/url2string_match_append.json', # string match results\n",
    "          'frame_classification/url2bert_prob_append.json', # leidos bert results\n",
    "          'frame_classification/url2west_prob_append.json', # string match results\n",
    "          'frame_classification/url2lotclass_prob_append.json', # string match results\n",
    "          'frame_classification/url2tuned_bert_prob_append.json', # leidos bert results\n",
    "          'frame_classification/LeidosBERT/data/input_append.csv',\n",
    "          'frame_classification/LeidosBERT/data/output_append.csv']:\n",
    "    head, tail = os.path.split(fn)\n",
    "    new_fn = os.path.join(head, week + tail)\n",
    "    try:\n",
    "        os.rename(fn, new_fn)\n",
    "    except:\n",
    "        pass"
   ]
  }
 ],
 "metadata": {
  "kernelspec": {
   "display_name": "pytorch",
   "language": "python",
   "name": "pytorch"
  },
  "language_info": {
   "codemirror_mode": {
    "name": "ipython",
    "version": 3
   },
   "file_extension": ".py",
   "mimetype": "text/x-python",
   "name": "python",
   "nbconvert_exporter": "python",
   "pygments_lexer": "ipython3",
   "version": "3.8.5"
  }
 },
 "nbformat": 4,
 "nbformat_minor": 4
}
