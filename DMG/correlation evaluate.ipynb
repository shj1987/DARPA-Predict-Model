{
 "cells": [
  {
   "cell_type": "code",
   "execution_count": 8,
   "metadata": {},
   "outputs": [],
   "source": [
    "gt_series = 'twitter_time_series_to_8_03.json'\n",
    "end_date = '8_31'\n",
    "compared = [f'news_westclass_time_series_to_{end_date}.json',\n",
    "           f'news_string_match_time_series_to_{end_date}.json',\n",
    "           f'news_leidos_bert_time_series_to_{end_date}.json',\n",
    "           f'news_lotclass_time_series_to_{end_date}.json',\n",
    "           f'news_tuned_bert_time_series_to_{end_date}.json']\n",
    "narratives = ['benefits/connections/afghanistan', 'benefits/covid', 'benefits/development/energy', 'benefits/development/maritime', 'benefits/development/roads', 'benefits/jobs', 'controversies/china/border', 'controversies/china/debt', 'controversies/china/exploitation', 'controversies/china/funding', 'controversies/china/naval', 'controversies/china/uighur', 'controversies/pakistan/army', 'controversies/pakistan/bajwa', 'controversies/pakistan/baloch', 'controversies/pakistan/students', 'leadership/bajwa', 'leadership/khan', 'leadership/sharif', 'opposition/kashmir', 'opposition/propaganda']\n",
    "import calendar\n",
    "import numpy as np\n",
    "import datetime\n",
    "import json\n",
    "import pandas as pd\n",
    "from scipy.stats import pearsonr\n",
    "\n",
    "evaluate_dates = [i.strftime(\"%Y-%m-%d\") for i in pd.date_range(start=\"2020-03-30\",end=\"2020-06-29\").to_pydatetime().tolist()]\n"
   ]
  },
  {
   "cell_type": "code",
   "execution_count": 9,
   "metadata": {},
   "outputs": [],
   "source": [
    "import math"
   ]
  },
  {
   "cell_type": "code",
   "execution_count": 10,
   "metadata": {},
   "outputs": [
    {
     "name": "stdout",
     "output_type": "stream",
     "text": [
      " westclass string_match leidos_bert lotclass tuned_bert\n",
      "benefits/connections/afghanistan 0.36896064233135034 0.47903696253600037 0.2728649252791227 -0.07021458269544452 0.6450430104226977 \n",
      "benefits/covid 0.14199851695920154 0.1252692423531799 0.04111000332146582 0.07336412556325703 0.1370396216279329 \n",
      "benefits/development/energy -0.027119588202836206 -0.03186845902957903 0.24282662404719516 0.047901031029797064 0.15296712812934676 \n",
      "benefits/development/maritime 0.03574264016959078 0.001238397142131071 0.32391500564113446 -0.024947843316250985 0.2491868818891263 \n",
      "benefits/development/roads -0.11389325666188815 -0.09400323736444885 -0.0640255749328773 0.2503651345162133 0.08400182669052159 \n",
      "benefits/jobs 0.0866010418770056 0.008185864933823762 0.11213910648550465 0.19298461819238819 -0.038447990535634836 \n",
      "controversies/china/border 0.9257805417119256 0.9330215571967652 0.925680369405092 0.8892646951789432 0.7953705248769093 \n",
      "controversies/china/debt 0.2615422275713903 0.2520863518951694 0.26008031972349105 0.16569089587856284 0.20319261715651307 \n",
      "controversies/china/exploitation -0.055050632925683345 -0.06682958892714334 0.2963129961949112 0.14220796450393688 0.523338218330028 \n",
      "controversies/china/funding -0.045209718022613886 -0.03182287112666801 0.060365497093249273 -0.008726451097183723 0.04001571643715706 \n",
      "controversies/china/naval -0.00956449819495518 0.015234294286748922 nan 0.12746031135527489 0.15282544972517534 \n",
      "controversies/china/uighur 0.415889918810543 0.13696568047908048 0.1298183740193772 0.05210677413346882 0.3189029809645752 \n",
      "controversies/pakistan/army nan 0.09683479479439276 0.22502874077844243 nan 0.33201372465068885 \n",
      "controversies/pakistan/bajwa -0.0363762169392419 0.004105465969972645 0.06695911414061645 nan 0.4139915678461167 \n",
      "controversies/pakistan/baloch 0.17829626738658644 0.16345128480829835 0.1754142975915563 nan 0.16386022004627646 \n",
      "controversies/pakistan/students -0.002661612504469971 0.12049394173065399 0.0700347635559462 0.23892774644541157 0.053398556208038024 \n",
      "leadership/bajwa 0.03444503869210177 nan -0.043923044433839355 -0.04391155096017431 0.13717779383315132 \n",
      "leadership/khan 0.30027111889384916 0.26597096578747675 0.43997357707207796 nan 0.29416780998316816 \n",
      "leadership/sharif -0.024550398712423094 0.023630154555144726 0.025248112512038318 -0.05139092673455055 0.04067021642643684 \n",
      "opposition/kashmir 0.20086190390372763 0.2466445922952574 0.20561476316578223 0.027314030764449205 0.05555135486109978 \n",
      "opposition/propaganda 0.03577127645735663 0.2539021707037648 0.19177078399314612 0.07714686038493174 0.13804815398940168 \n"
     ]
    }
   ],
   "source": [
    "gt_all = pd.read_json('../' + gt_series, typ='series')\n",
    "print(' ' + ' '.join(map(lambda x: '_'.join(x.split('_')[1:-5]), compared)))\n",
    "nar2method_corr = dict()\n",
    "for nar in narratives:\n",
    "    nar2method_corr[nar] = dict()\n",
    "    print(nar, end=' ')\n",
    "    for method in compared:\n",
    "        a = json.loads(pd.read_json('../generate_output/' + method, typ='series')[nar])\n",
    "        gt = json.loads(gt_all[nar])['EventCount']\n",
    "        X = []\n",
    "        Y = []\n",
    "        for d in evaluate_dates:\n",
    "            stamp = str(int(calendar.timegm(datetime.datetime.strptime(d, \"%Y-%m-%d\").timetuple()))) + '000'\n",
    "            X.append(a[stamp])\n",
    "            Y.append(gt[stamp])\n",
    "        corr, p = pearsonr(X, Y)\n",
    "        nar2method_corr[nar][method] = corr if not math.isnan(corr) else -100\n",
    "        print(corr, end=' ')\n",
    "    print()"
   ]
  },
  {
   "cell_type": "code",
   "execution_count": 11,
   "metadata": {},
   "outputs": [
    {
     "name": "stdout",
     "output_type": "stream",
     "text": [
      "tuned_bert\n",
      "westclass\n",
      "leidos_bert\n",
      "leidos_bert\n",
      "lotclass\n",
      "lotclass\n",
      "string_match\n",
      "westclass\n",
      "tuned_bert\n",
      "leidos_bert\n",
      "tuned_bert\n",
      "westclass\n",
      "tuned_bert\n",
      "tuned_bert\n",
      "westclass\n",
      "lotclass\n",
      "tuned_bert\n",
      "leidos_bert\n",
      "tuned_bert\n",
      "string_match\n",
      "string_match\n",
      "{\"benefits/connections/afghanistan\": \"tuned_bert\", \"benefits/covid\": \"westclass\", \"benefits/development/energy\": \"leidos_bert\", \"benefits/development/maritime\": \"leidos_bert\", \"benefits/development/roads\": \"lotclass\", \"benefits/jobs\": \"lotclass\", \"controversies/china/border\": \"string_match\", \"controversies/china/debt\": \"westclass\", \"controversies/china/exploitation\": \"tuned_bert\", \"controversies/china/funding\": \"leidos_bert\", \"controversies/china/naval\": \"tuned_bert\", \"controversies/china/uighur\": \"westclass\", \"controversies/pakistan/army\": \"tuned_bert\", \"controversies/pakistan/bajwa\": \"tuned_bert\", \"controversies/pakistan/baloch\": \"westclass\", \"controversies/pakistan/students\": \"lotclass\", \"leadership/bajwa\": \"tuned_bert\", \"leadership/khan\": \"leidos_bert\", \"leadership/sharif\": \"tuned_bert\", \"opposition/kashmir\": \"string_match\", \"opposition/propaganda\": \"string_match\"}\n"
     ]
    }
   ],
   "source": [
    "nar2optimal_choice = dict()\n",
    "for nar in narratives:\n",
    "    res = nar2method_corr[nar]\n",
    "    rk = sorted(res, key=res.get, reverse=True)\n",
    "    x = rk[0]\n",
    "    x = '_'.join(x.split('_')[1:-5])\n",
    "    nar2optimal_choice[nar] = x\n",
    "    print(x)\n",
    "print(json.dumps(nar2optimal_choice))\n",
    "# nar2optimal_choice = {\"benefits/connections/afghanistan\": \"tuned_bert\", \"benefits/covid\": \"westclass\", \"benefits/development/energy\": \"leidos_bert\", \"benefits/development/maritime\": \"leidos_bert\", \"benefits/development/roads\": \"lotclass\", \"benefits/jobs\": \"lotclass\", \"controversies/china/border\": \"westclass\", \"controversies/china/debt\": \"string_match\", \"controversies/china/exploitation\": \"tuned_bert\", \"controversies/china/funding\": \"leidos_bert\", \"controversies/china/naval\": \"tuned_bert\", \"controversies/china/uighur\": \"string_match\", \"controversies/pakistan/army\": \"tuned_bert\", \"controversies/pakistan/bajwa\": \"tuned_bert\", \"controversies/pakistan/baloch\": \"westclass\", \"controversies/pakistan/students\": \"lotclass\", \"leadership/bajwa\": \"tuned_bert\", \"leadership/khan\": \"leidos_bert\", \"leadership/sharif\": \"tuned_bert\", \"opposition/kashmir\": \"leidos_bert\", \"opposition/propaganda\": \"leidos_bert\"}\n",
    "# nar2optimal_choice = {\"benefits/connections/afghanistan\": \"tuned_bert\", \"benefits/covid\": \"westclass\", \"benefits/development/energy\": \"leidos_bert\", \"benefits/development/maritime\": \"leidos_bert\", \"benefits/development/roads\": \"lotclass\", \"benefits/jobs\": \"lotclass\", \"controversies/china/border\": \"string_match\", \"controversies/china/debt\": \"westclass\", \"controversies/china/exploitation\": \"tuned_bert\", \"controversies/china/funding\": \"leidos_bert\", \"controversies/china/naval\": \"tuned_bert\", \"controversies/china/uighur\": \"westclass\", \"controversies/pakistan/army\": \"tuned_bert\", \"controversies/pakistan/bajwa\": \"tuned_bert\", \"controversies/pakistan/baloch\": \"westclass\", \"controversies/pakistan/students\": \"lotclass\", \"leadership/bajwa\": \"tuned_bert\", \"leadership/khan\": \"leidos_bert\", \"leadership/sharif\": \"tuned_bert\", \"opposition/kashmir\": \"string_match\", \"opposition/propaganda\": \"string_match\"}\n",
    "# nar2optimal_choice = {\"benefits/connections/afghanistan\": \"tuned_bert\", \"benefits/covid\": \"westclass\", \"benefits/development/energy\": \"leidos_bert\", \"benefits/development/maritime\": \"leidos_bert\", \"benefits/development/roads\": \"lotclass\", \"benefits/jobs\": \"lotclass\", \"controversies/china/border\": \"string_match\", \"controversies/china/debt\": \"westclass\", \"controversies/china/exploitation\": \"tuned_bert\", \"controversies/china/funding\": \"leidos_bert\", \"controversies/china/naval\": \"tuned_bert\", \"controversies/china/uighur\": \"westclass\", \"controversies/pakistan/army\": \"tuned_bert\", \"controversies/pakistan/bajwa\": \"tuned_bert\", \"controversies/pakistan/baloch\": \"westclass\", \"controversies/pakistan/students\": \"lotclass\", \"leadership/bajwa\": \"tuned_bert\", \"leadership/khan\": \"leidos_bert\", \"leadership/sharif\": \"tuned_bert\", \"opposition/kashmir\": \"string_match\", \"opposition/propaganda\": \"string_match\"}\n",
    "# nar2optimal_choice = {\"benefits/connections/afghanistan\": \"tuned_bert\", \"benefits/covid\": \"westclass\", \"benefits/development/energy\": \"leidos_bert\", \"benefits/development/maritime\": \"leidos_bert\", \"benefits/development/roads\": \"lotclass\", \"benefits/jobs\": \"lotclass\", \"controversies/china/border\": \"string_match\", \"controversies/china/debt\": \"westclass\", \"controversies/china/exploitation\": \"tuned_bert\", \"controversies/china/funding\": \"leidos_bert\", \"controversies/china/naval\": \"tuned_bert\", \"controversies/china/uighur\": \"westclass\", \"controversies/pakistan/army\": \"tuned_bert\", \"controversies/pakistan/bajwa\": \"tuned_bert\", \"controversies/pakistan/baloch\": \"westclass\", \"controversies/pakistan/students\": \"lotclass\", \"leadership/bajwa\": \"tuned_bert\", \"leadership/khan\": \"leidos_bert\", \"leadership/sharif\": \"tuned_bert\", \"opposition/kashmir\": \"string_match\", \"opposition/propaganda\": \"string_match\"}\n",
    "nar2optimal_choice = {\"benefits/connections/afghanistan\": \"tuned_bert\", \"benefits/covid\": \"westclass\", \"benefits/development/energy\": \"leidos_bert\", \"benefits/development/maritime\": \"leidos_bert\", \"benefits/development/roads\": \"lotclass\", \"benefits/jobs\": \"lotclass\", \"controversies/china/border\": \"string_match\", \"controversies/china/debt\": \"westclass\", \"controversies/china/exploitation\": \"tuned_bert\", \"controversies/china/funding\": \"leidos_bert\", \"controversies/china/naval\": \"tuned_bert\", \"controversies/china/uighur\": \"westclass\", \"controversies/pakistan/army\": \"tuned_bert\", \"controversies/pakistan/bajwa\": \"tuned_bert\", \"controversies/pakistan/baloch\": \"westclass\", \"controversies/pakistan/students\": \"lotclass\", \"leadership/bajwa\": \"tuned_bert\", \"leadership/khan\": \"leidos_bert\", \"leadership/sharif\": \"tuned_bert\", \"opposition/kashmir\": \"string_match\", \"opposition/propaganda\": \"string_match\"}"
   ]
  },
  {
   "cell_type": "code",
   "execution_count": 12,
   "metadata": {},
   "outputs": [
    {
     "name": "stdout",
     "output_type": "stream",
     "text": [
      "152041\n",
      "benefits/connections/afghanistan 0.648987444556655 0 0 1 0 10\n",
      "benefits/covid 0.151608697789714 9 0 0 0 10\n",
      "benefits/development/energy 0.24282662404719516 0 0 1 0 0\n",
      "benefits/development/maritime 0.32391500564113446 0 0 1 0 0\n",
      "benefits/development/roads 0.2503651345162133 0 0 0 1 0\n",
      "benefits/jobs 0.19791902253994684 1 0 1 10 0\n",
      "controversies/china/border 0.9442021676522102 0 1 1 5 0\n",
      "controversies/china/debt 0.29482357507791856 3 0 6 8 0\n",
      "controversies/china/exploitation 0.5240301892139482 0 0 0 9 10\n",
      "controversies/china/funding 0.06940952705562402 0 0 7 0 6\n",
      "controversies/china/naval 0.19155199779952292 0 0 8 2 5\n",
      "controversies/china/uighur 0.4247198670795459 10 0 0 2 1\n",
      "controversies/pakistan/army 0.36426082560192274 9 1 8 9 3\n",
      "controversies/pakistan/bajwa 0.4139915678461167 0 0 0 9 7\n",
      "controversies/pakistan/baloch 0.20280865091191722 3 0 1 4 0\n",
      "controversies/pakistan/students 0.24131361673287832 0 1 0 10 0\n",
      "leadership/bajwa 0.13728208888431623 1 3 0 0 6\n",
      "leadership/khan 0.4951940422243769 10 0 1 1 0\n",
      "leadership/sharif 0.04067021642643684 0 0 0 0 1\n",
      "opposition/kashmir 0.2466445922952574 0 1 0 0 0\n",
      "opposition/propaganda 0.25621059136966695 0 10 0 1 0\n"
     ]
    }
   ],
   "source": [
    "gt_all = pd.read_json('../' + gt_series, typ='series')\n",
    "a = [pd.read_json('../generate_output/' + method, typ='series') for method in compared]\n",
    "# print('_' + '_'.join(map(lambda x: ' '.join(x.split('_')[1:-5]), compared)))\n",
    "nar2weights = dict()\n",
    "import itertools\n",
    "from multiprocessing import Pool\n",
    "tmp = list(itertools.product(range(11), repeat=len(compared)))\n",
    "search_space = []\n",
    "for ratio in tmp:\n",
    "    if sum(ratio) == 0:\n",
    "        continue\n",
    "    g = ratio[0]\n",
    "    for r in ratio:\n",
    "        g = math.gcd(g, r)\n",
    "    if g != 1:\n",
    "        continue\n",
    "    search_space.append(ratio)\n",
    "print(len(search_space))\n",
    "def worker(data_in):\n",
    "    nar, ratio = data_in\n",
    "    gt = json.loads(gt_all[nar])['EventCount']\n",
    "    X = []\n",
    "    Y = []\n",
    "    for d in evaluate_dates:\n",
    "        stamp = str(int(calendar.timegm(datetime.datetime.strptime(d, \"%Y-%m-%d\").timetuple()))) + '000'\n",
    "        val = 0\n",
    "        base = 0\n",
    "        assert len(ratio) == len(a)\n",
    "        for r, value in zip(ratio, a):\n",
    "            val += json.loads(value[nar])[stamp] * r\n",
    "            base += r\n",
    "        X.append(val / base)\n",
    "        Y.append(gt[stamp])\n",
    "    corr, p = pearsonr(X, Y)\n",
    "    return corr, ratio\n",
    "from tqdm.notebook import tqdm\n",
    "for nar in narratives:\n",
    "#     print(nar, end='_')\n",
    "    corrs = []\n",
    "    with Pool(128) as pool:\n",
    "        for corr, ratio in pool.imap(worker, [(nar, ratio) for ratio in search_space]):\n",
    "            corrs.append((corr if not math.isnan(corr) else -100, ' '.join(map(str, ratio))))\n",
    "    corrs = sorted(corrs, reverse=True)\n",
    "    print(nar, corrs[0][0], corrs[0][1])\n",
    "    nar2weights[nar] = {j:i for i, j in zip(map(int, corrs[0][1].split(' ')), compared)}"
   ]
  },
  {
   "cell_type": "code",
   "execution_count": 13,
   "metadata": {},
   "outputs": [
    {
     "data": {
      "text/plain": [
       "'{\"benefits/connections/afghanistan\": {\"westclass\": 0, \"string_match\": 0, \"leidos_bert\": 1, \"lotclass\": 0, \"tuned_bert\": 10}, \"benefits/covid\": {\"westclass\": 9, \"string_match\": 0, \"leidos_bert\": 0, \"lotclass\": 0, \"tuned_bert\": 10}, \"benefits/development/energy\": {\"westclass\": 0, \"string_match\": 0, \"leidos_bert\": 1, \"lotclass\": 0, \"tuned_bert\": 0}, \"benefits/development/maritime\": {\"westclass\": 0, \"string_match\": 0, \"leidos_bert\": 1, \"lotclass\": 0, \"tuned_bert\": 0}, \"benefits/development/roads\": {\"westclass\": 0, \"string_match\": 0, \"leidos_bert\": 0, \"lotclass\": 1, \"tuned_bert\": 0}, \"benefits/jobs\": {\"westclass\": 1, \"string_match\": 0, \"leidos_bert\": 1, \"lotclass\": 10, \"tuned_bert\": 0}, \"controversies/china/border\": {\"westclass\": 0, \"string_match\": 1, \"leidos_bert\": 1, \"lotclass\": 5, \"tuned_bert\": 0}, \"controversies/china/debt\": {\"westclass\": 3, \"string_match\": 0, \"leidos_bert\": 6, \"lotclass\": 8, \"tuned_bert\": 0}, \"controversies/china/exploitation\": {\"westclass\": 0, \"string_match\": 0, \"leidos_bert\": 0, \"lotclass\": 9, \"tuned_bert\": 10}, \"controversies/china/funding\": {\"westclass\": 0, \"string_match\": 0, \"leidos_bert\": 7, \"lotclass\": 0, \"tuned_bert\": 6}, \"controversies/china/naval\": {\"westclass\": 0, \"string_match\": 0, \"leidos_bert\": 8, \"lotclass\": 2, \"tuned_bert\": 5}, \"controversies/china/uighur\": {\"westclass\": 10, \"string_match\": 0, \"leidos_bert\": 0, \"lotclass\": 2, \"tuned_bert\": 1}, \"controversies/pakistan/army\": {\"westclass\": 9, \"string_match\": 1, \"leidos_bert\": 8, \"lotclass\": 9, \"tuned_bert\": 3}, \"controversies/pakistan/bajwa\": {\"westclass\": 0, \"string_match\": 0, \"leidos_bert\": 0, \"lotclass\": 9, \"tuned_bert\": 7}, \"controversies/pakistan/baloch\": {\"westclass\": 3, \"string_match\": 0, \"leidos_bert\": 1, \"lotclass\": 4, \"tuned_bert\": 0}, \"controversies/pakistan/students\": {\"westclass\": 0, \"string_match\": 1, \"leidos_bert\": 0, \"lotclass\": 10, \"tuned_bert\": 0}, \"leadership/bajwa\": {\"westclass\": 1, \"string_match\": 3, \"leidos_bert\": 0, \"lotclass\": 0, \"tuned_bert\": 6}, \"leadership/khan\": {\"westclass\": 10, \"string_match\": 0, \"leidos_bert\": 1, \"lotclass\": 1, \"tuned_bert\": 0}, \"leadership/sharif\": {\"westclass\": 0, \"string_match\": 0, \"leidos_bert\": 0, \"lotclass\": 0, \"tuned_bert\": 1}, \"opposition/kashmir\": {\"westclass\": 0, \"string_match\": 1, \"leidos_bert\": 0, \"lotclass\": 0, \"tuned_bert\": 0}, \"opposition/propaganda\": {\"westclass\": 0, \"string_match\": 10, \"leidos_bert\": 0, \"lotclass\": 1, \"tuned_bert\": 0}}'"
      ]
     },
     "execution_count": 13,
     "metadata": {},
     "output_type": "execute_result"
    }
   ],
   "source": [
    "json.dumps({nar: {'_'.join(method.split('_')[1:-5]) : nar2weights[nar][method] for method in nar2weights[nar]} for nar in nar2weights})\n",
    "# {\"benefits/connections/afghanistan\": {\"westclass\": 0, \"string_match\": 0, \"leidos_bert\": 1, \"lotclass\": 0, \"tuned_bert\": 10}, \"benefits/covid\": {\"westclass\": 1, \"string_match\": 0, \"leidos_bert\": 0, \"lotclass\": 0, \"tuned_bert\": 1}, \"benefits/development/energy\": {\"westclass\": 0, \"string_match\": 0, \"leidos_bert\": 1, \"lotclass\": 0, \"tuned_bert\": 0}, \"benefits/development/maritime\": {\"westclass\": 0, \"string_match\": 0, \"leidos_bert\": 1, \"lotclass\": 0, \"tuned_bert\": 0}, \"benefits/development/roads\": {\"westclass\": 0, \"string_match\": 0, \"leidos_bert\": 0, \"lotclass\": 1, \"tuned_bert\": 0}, \"benefits/jobs\": {\"westclass\": 1, \"string_match\": 0, \"leidos_bert\": 1, \"lotclass\": 10, \"tuned_bert\": 0}, \"controversies/china/border\": {\"westclass\": 0, \"string_match\": 1, \"leidos_bert\": 1, \"lotclass\": 5, \"tuned_bert\": 0}, \"controversies/china/debt\": {\"westclass\": 3, \"string_match\": 0, \"leidos_bert\": 6, \"lotclass\": 10, \"tuned_bert\": 0}, \"controversies/china/exploitation\": {\"westclass\": 0, \"string_match\": 0, \"leidos_bert\": 0, \"lotclass\": 7, \"tuned_bert\": 10}, \"controversies/china/funding\": {\"westclass\": 0, \"string_match\": 0, \"leidos_bert\": 6, \"lotclass\": 0, \"tuned_bert\": 5}, \"controversies/china/naval\": {\"westclass\": 0, \"string_match\": 0, \"leidos_bert\": 8, \"lotclass\": 2, \"tuned_bert\": 5}, \"controversies/china/uighur\": {\"westclass\": 10, \"string_match\": 0, \"leidos_bert\": 0, \"lotclass\": 3, \"tuned_bert\": 1}, \"controversies/pakistan/army\": {\"westclass\": 9, \"string_match\": 1, \"leidos_bert\": 8, \"lotclass\": 9, \"tuned_bert\": 3}, \"controversies/pakistan/bajwa\": {\"westclass\": 0, \"string_match\": 0, \"leidos_bert\": 0, \"lotclass\": 9, \"tuned_bert\": 7}, \"controversies/pakistan/baloch\": {\"westclass\": 10, \"string_match\": 0, \"leidos_bert\": 3, \"lotclass\": 2, \"tuned_bert\": 0}, \"controversies/pakistan/students\": {\"westclass\": 0, \"string_match\": 1, \"leidos_bert\": 0, \"lotclass\": 10, \"tuned_bert\": 0}, \"leadership/bajwa\": {\"westclass\": 3, \"string_match\": 8, \"leidos_bert\": 0, \"lotclass\": 0, \"tuned_bert\": 9}, \"leadership/khan\": {\"westclass\": 9, \"string_match\": 0, \"leidos_bert\": 7, \"lotclass\": 9, \"tuned_bert\": 2}, \"leadership/sharif\": {\"westclass\": 0, \"string_match\": 0, \"leidos_bert\": 0, \"lotclass\": 0, \"tuned_bert\": 1}, \"opposition/kashmir\": {\"westclass\": 0, \"string_match\": 1, \"leidos_bert\": 0, \"lotclass\": 0, \"tuned_bert\": 0}, \"opposition/propaganda\": {\"westclass\": 10, \"string_match\": 10, \"leidos_bert\": 1, \"lotclass\": 1, \"tuned_bert\": 0}}\n",
    "# {\"benefits/connections/afghanistan\": {\"westclass\": 0, \"string_match\": 0, \"leidos_bert\": 1, \"lotclass\": 0, \"tuned_bert\": 10}, \"benefits/covid\": {\"westclass\": 1, \"string_match\": 0, \"leidos_bert\": 0, \"lotclass\": 0, \"tuned_bert\": 1}, \"benefits/development/energy\": {\"westclass\": 0, \"string_match\": 0, \"leidos_bert\": 1, \"lotclass\": 0, \"tuned_bert\": 0}, \"benefits/development/maritime\": {\"westclass\": 0, \"string_match\": 0, \"leidos_bert\": 1, \"lotclass\": 0, \"tuned_bert\": 0}, \"benefits/development/roads\": {\"westclass\": 0, \"string_match\": 0, \"leidos_bert\": 0, \"lotclass\": 1, \"tuned_bert\": 0}, \"benefits/jobs\": {\"westclass\": 1, \"string_match\": 0, \"leidos_bert\": 1, \"lotclass\": 10, \"tuned_bert\": 0}, \"controversies/china/border\": {\"westclass\": 0, \"string_match\": 1, \"leidos_bert\": 1, \"lotclass\": 5, \"tuned_bert\": 0}, \"controversies/china/debt\": {\"westclass\": 3, \"string_match\": 0, \"leidos_bert\": 6, \"lotclass\": 10, \"tuned_bert\": 0}, \"controversies/china/exploitation\": {\"westclass\": 0, \"string_match\": 0, \"leidos_bert\": 0, \"lotclass\": 9, \"tuned_bert\": 10}, \"controversies/china/funding\": {\"westclass\": 0, \"string_match\": 0, \"leidos_bert\": 7, \"lotclass\": 0, \"tuned_bert\": 6}, \"controversies/china/naval\": {\"westclass\": 0, \"string_match\": 0, \"leidos_bert\": 8, \"lotclass\": 2, \"tuned_bert\": 5}, \"controversies/china/uighur\": {\"westclass\": 10, \"string_match\": 0, \"leidos_bert\": 0, \"lotclass\": 2, \"tuned_bert\": 1}, \"controversies/pakistan/army\": {\"westclass\": 9, \"string_match\": 1, \"leidos_bert\": 8, \"lotclass\": 9, \"tuned_bert\": 3}, \"controversies/pakistan/bajwa\": {\"westclass\": 0, \"string_match\": 0, \"leidos_bert\": 0, \"lotclass\": 9, \"tuned_bert\": 7}, \"controversies/pakistan/baloch\": {\"westclass\": 10, \"string_match\": 0, \"leidos_bert\": 3, \"lotclass\": 2, \"tuned_bert\": 0}, \"controversies/pakistan/students\": {\"westclass\": 0, \"string_match\": 1, \"leidos_bert\": 0, \"lotclass\": 10, \"tuned_bert\": 0}, \"leadership/bajwa\": {\"westclass\": 3, \"string_match\": 4, \"leidos_bert\": 0, \"lotclass\": 0, \"tuned_bert\": 8}, \"leadership/khan\": {\"westclass\": 9, \"string_match\": 0, \"leidos_bert\": 7, \"lotclass\": 9, \"tuned_bert\": 2}, \"leadership/sharif\": {\"westclass\": 0, \"string_match\": 0, \"leidos_bert\": 0, \"lotclass\": 0, \"tuned_bert\": 1}, \"opposition/kashmir\": {\"westclass\": 0, \"string_match\": 1, \"leidos_bert\": 0, \"lotclass\": 0, \"tuned_bert\": 0}, \"opposition/propaganda\": {\"westclass\": 7, \"string_match\": 10, \"leidos_bert\": 1, \"lotclass\": 2, \"tuned_bert\": 0}}\n",
    "# {\"benefits/connections/afghanistan\": {\"westclass\": 0, \"string_match\": 0, \"leidos_bert\": 1, \"lotclass\": 0, \"tuned_bert\": 10}, \"benefits/covid\": {\"westclass\": 1, \"string_match\": 0, \"leidos_bert\": 0, \"lotclass\": 0, \"tuned_bert\": 1}, \"benefits/development/energy\": {\"westclass\": 0, \"string_match\": 0, \"leidos_bert\": 1, \"lotclass\": 0, \"tuned_bert\": 0}, \"benefits/development/maritime\": {\"westclass\": 0, \"string_match\": 0, \"leidos_bert\": 1, \"lotclass\": 0, \"tuned_bert\": 0}, \"benefits/development/roads\": {\"westclass\": 0, \"string_match\": 0, \"leidos_bert\": 0, \"lotclass\": 1, \"tuned_bert\": 0}, \"benefits/jobs\": {\"westclass\": 1, \"string_match\": 0, \"leidos_bert\": 1, \"lotclass\": 10, \"tuned_bert\": 0}, \"controversies/china/border\": {\"westclass\": 0, \"string_match\": 1, \"leidos_bert\": 1, \"lotclass\": 5, \"tuned_bert\": 0}, \"controversies/china/debt\": {\"westclass\": 3, \"string_match\": 0, \"leidos_bert\": 6, \"lotclass\": 10, \"tuned_bert\": 0}, \"controversies/china/exploitation\": {\"westclass\": 0, \"string_match\": 0, \"leidos_bert\": 0, \"lotclass\": 7, \"tuned_bert\": 8}, \"controversies/china/funding\": {\"westclass\": 0, \"string_match\": 0, \"leidos_bert\": 7, \"lotclass\": 0, \"tuned_bert\": 6}, \"controversies/china/naval\": {\"westclass\": 0, \"string_match\": 0, \"leidos_bert\": 8, \"lotclass\": 2, \"tuned_bert\": 5}, \"controversies/china/uighur\": {\"westclass\": 10, \"string_match\": 0, \"leidos_bert\": 0, \"lotclass\": 2, \"tuned_bert\": 1}, \"controversies/pakistan/army\": {\"westclass\": 9, \"string_match\": 1, \"leidos_bert\": 8, \"lotclass\": 9, \"tuned_bert\": 3}, \"controversies/pakistan/bajwa\": {\"westclass\": 0, \"string_match\": 0, \"leidos_bert\": 0, \"lotclass\": 9, \"tuned_bert\": 7}, \"controversies/pakistan/baloch\": {\"westclass\": 10, \"string_match\": 0, \"leidos_bert\": 3, \"lotclass\": 8, \"tuned_bert\": 0}, \"controversies/pakistan/students\": {\"westclass\": 0, \"string_match\": 1, \"leidos_bert\": 0, \"lotclass\": 10, \"tuned_bert\": 0}, \"leadership/bajwa\": {\"westclass\": 3, \"string_match\": 4, \"leidos_bert\": 0, \"lotclass\": 0, \"tuned_bert\": 8}, \"leadership/khan\": {\"westclass\": 10, \"string_match\": 0, \"leidos_bert\": 1, \"lotclass\": 8, \"tuned_bert\": 0}, \"leadership/sharif\": {\"westclass\": 0, \"string_match\": 0, \"leidos_bert\": 0, \"lotclass\": 0, \"tuned_bert\": 1}, \"opposition/kashmir\": {\"westclass\": 0, \"string_match\": 1, \"leidos_bert\": 0, \"lotclass\": 0, \"tuned_bert\": 0}, \"opposition/propaganda\": {\"westclass\": 0, \"string_match\": 10, \"leidos_bert\": 0, \"lotclass\": 1, \"tuned_bert\": 0}}\n",
    "# {\"benefits/connections/afghanistan\": {\"westclass\": 0, \"string_match\": 0, \"leidos_bert\": 1, \"lotclass\": 0, \"tuned_bert\": 10}, \"benefits/covid\": {\"westclass\": 1, \"string_match\": 0, \"leidos_bert\": 0, \"lotclass\": 0, \"tuned_bert\": 1}, \"benefits/development/energy\": {\"westclass\": 0, \"string_match\": 0, \"leidos_bert\": 1, \"lotclass\": 0, \"tuned_bert\": 0}, \"benefits/development/maritime\": {\"westclass\": 0, \"string_match\": 0, \"leidos_bert\": 1, \"lotclass\": 0, \"tuned_bert\": 0}, \"benefits/development/roads\": {\"westclass\": 0, \"string_match\": 0, \"leidos_bert\": 0, \"lotclass\": 1, \"tuned_bert\": 0}, \"benefits/jobs\": {\"westclass\": 1, \"string_match\": 0, \"leidos_bert\": 1, \"lotclass\": 10, \"tuned_bert\": 0}, \"controversies/china/border\": {\"westclass\": 0, \"string_match\": 1, \"leidos_bert\": 1, \"lotclass\": 5, \"tuned_bert\": 0}, \"controversies/china/debt\": {\"westclass\": 3, \"string_match\": 0, \"leidos_bert\": 6, \"lotclass\": 10, \"tuned_bert\": 0}, \"controversies/china/exploitation\": {\"westclass\": 0, \"string_match\": 0, \"leidos_bert\": 0, \"lotclass\": 7, \"tuned_bert\": 8}, \"controversies/china/funding\": {\"westclass\": 0, \"string_match\": 0, \"leidos_bert\": 7, \"lotclass\": 0, \"tuned_bert\": 6}, \"controversies/china/naval\": {\"westclass\": 0, \"string_match\": 0, \"leidos_bert\": 8, \"lotclass\": 2, \"tuned_bert\": 5}, \"controversies/china/uighur\": {\"westclass\": 10, \"string_match\": 0, \"leidos_bert\": 0, \"lotclass\": 2, \"tuned_bert\": 1}, \"controversies/pakistan/army\": {\"westclass\": 9, \"string_match\": 1, \"leidos_bert\": 8, \"lotclass\": 10, \"tuned_bert\": 3}, \"controversies/pakistan/bajwa\": {\"westclass\": 0, \"string_match\": 0, \"leidos_bert\": 0, \"lotclass\": 9, \"tuned_bert\": 7}, \"controversies/pakistan/baloch\": {\"westclass\": 10, \"string_match\": 0, \"leidos_bert\": 3, \"lotclass\": 8, \"tuned_bert\": 0}, \"controversies/pakistan/students\": {\"westclass\": 0, \"string_match\": 1, \"leidos_bert\": 0, \"lotclass\": 10, \"tuned_bert\": 0}, \"leadership/bajwa\": {\"westclass\": 3, \"string_match\": 3, \"leidos_bert\": 0, \"lotclass\": 0, \"tuned_bert\": 10}, \"leadership/khan\": {\"westclass\": 10, \"string_match\": 0, \"leidos_bert\": 1, \"lotclass\": 8, \"tuned_bert\": 0}, \"leadership/sharif\": {\"westclass\": 0, \"string_match\": 0, \"leidos_bert\": 0, \"lotclass\": 0, \"tuned_bert\": 1}, \"opposition/kashmir\": {\"westclass\": 0, \"string_match\": 1, \"leidos_bert\": 0, \"lotclass\": 0, \"tuned_bert\": 0}, \"opposition/propaganda\": {\"westclass\": 0, \"string_match\": 10, \"leidos_bert\": 0, \"lotclass\": 1, \"tuned_bert\": 0}}\n",
    "# {\"benefits/connections/afghanistan\": {\"westclass\": 0, \"string_match\": 0, \"leidos_bert\": 1, \"lotclass\": 0, \"tuned_bert\": 10}, \"benefits/covid\": {\"westclass\": 9, \"string_match\": 0, \"leidos_bert\": 0, \"lotclass\": 0, \"tuned_bert\": 10}, \"benefits/development/energy\": {\"westclass\": 0, \"string_match\": 0, \"leidos_bert\": 1, \"lotclass\": 0, \"tuned_bert\": 0}, \"benefits/development/maritime\": {\"westclass\": 0, \"string_match\": 0, \"leidos_bert\": 1, \"lotclass\": 0, \"tuned_bert\": 0}, \"benefits/development/roads\": {\"westclass\": 0, \"string_match\": 0, \"leidos_bert\": 0, \"lotclass\": 1, \"tuned_bert\": 0}, \"benefits/jobs\": {\"westclass\": 1, \"string_match\": 0, \"leidos_bert\": 1, \"lotclass\": 10, \"tuned_bert\": 0}, \"controversies/china/border\": {\"westclass\": 0, \"string_match\": 1, \"leidos_bert\": 1, \"lotclass\": 5, \"tuned_bert\": 0}, \"controversies/china/debt\": {\"westclass\": 3, \"string_match\": 0, \"leidos_bert\": 6, \"lotclass\": 8, \"tuned_bert\": 0}, \"controversies/china/exploitation\": {\"westclass\": 0, \"string_match\": 0, \"leidos_bert\": 0, \"lotclass\": 9, \"tuned_bert\": 10}, \"controversies/china/funding\": {\"westclass\": 0, \"string_match\": 0, \"leidos_bert\": 7, \"lotclass\": 0, \"tuned_bert\": 6}, \"controversies/china/naval\": {\"westclass\": 0, \"string_match\": 0, \"leidos_bert\": 8, \"lotclass\": 2, \"tuned_bert\": 5}, \"controversies/china/uighur\": {\"westclass\": 10, \"string_match\": 0, \"leidos_bert\": 0, \"lotclass\": 2, \"tuned_bert\": 1}, \"controversies/pakistan/army\": {\"westclass\": 9, \"string_match\": 1, \"leidos_bert\": 8, \"lotclass\": 9, \"tuned_bert\": 3}, \"controversies/pakistan/bajwa\": {\"westclass\": 0, \"string_match\": 0, \"leidos_bert\": 0, \"lotclass\": 9, \"tuned_bert\": 7}, \"controversies/pakistan/baloch\": {\"westclass\": 3, \"string_match\": 0, \"leidos_bert\": 1, \"lotclass\": 4, \"tuned_bert\": 0}, \"controversies/pakistan/students\": {\"westclass\": 0, \"string_match\": 1, \"leidos_bert\": 0, \"lotclass\": 10, \"tuned_bert\": 0}, \"leadership/bajwa\": {\"westclass\": 1, \"string_match\": 3, \"leidos_bert\": 0, \"lotclass\": 0, \"tuned_bert\": 6}, \"leadership/khan\": {\"westclass\": 10, \"string_match\": 0, \"leidos_bert\": 1, \"lotclass\": 1, \"tuned_bert\": 0}, \"leadership/sharif\": {\"westclass\": 0, \"string_match\": 0, \"leidos_bert\": 0, \"lotclass\": 0, \"tuned_bert\": 1}, \"opposition/kashmir\": {\"westclass\": 0, \"string_match\": 1, \"leidos_bert\": 0, \"lotclass\": 0, \"tuned_bert\": 0}, \"opposition/propaganda\": {\"westclass\": 0, \"string_match\": 10, \"leidos_bert\": 0, \"lotclass\": 1, \"tuned_bert\": 0}}"
   ]
  }
 ],
 "metadata": {
  "kernelspec": {
   "display_name": "pytorch",
   "language": "python",
   "name": "pytorch"
  },
  "language_info": {
   "codemirror_mode": {
    "name": "ipython",
    "version": 3
   },
   "file_extension": ".py",
   "mimetype": "text/x-python",
   "name": "python",
   "nbconvert_exporter": "python",
   "pygments_lexer": "ipython3",
   "version": "3.8.5"
  }
 },
 "nbformat": 4,
 "nbformat_minor": 4
}
